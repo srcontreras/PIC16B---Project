{
 "cells": [
  {
   "cell_type": "code",
   "execution_count": 2,
   "metadata": {
    "colab": {
     "base_uri": "https://localhost:8080/"
    },
    "id": "7ob2vzGY9cfE",
    "outputId": "c7c071be-e917-4d70-b06d-15d1fc79006b",
    "tags": []
   },
   "outputs": [
    {
     "name": "stderr",
     "output_type": "stream",
     "text": [
      "2023-12-06 11:28:17.450698: I tensorflow/core/platform/cpu_feature_guard.cc:182] This TensorFlow binary is optimized to use available CPU instructions in performance-critical operations.\n",
      "To enable the following instructions: AVX2 FMA, in other operations, rebuild TensorFlow with the appropriate compiler flags.\n",
      "[nltk_data] Downloading package stopwords to\n",
      "[nltk_data]     /Users/songyujun/nltk_data...\n",
      "[nltk_data]   Package stopwords is already up-to-date!\n",
      "[nltk_data] Downloading package wordnet to\n",
      "[nltk_data]     /Users/songyujun/nltk_data...\n",
      "[nltk_data]   Package wordnet is already up-to-date!\n",
      "[nltk_data] Downloading package averaged_perceptron_tagger to\n",
      "[nltk_data]     /Users/songyujun/nltk_data...\n",
      "[nltk_data]   Package averaged_perceptron_tagger is already up-to-\n",
      "[nltk_data]       date!\n",
      "[nltk_data] Downloading package punkt to /Users/songyujun/nltk_data...\n",
      "[nltk_data]   Package punkt is already up-to-date!\n"
     ]
    }
   ],
   "source": [
    "from tqdm import tqdm\n",
    "import numpy as np\n",
    "import pandas as pd\n",
    "import re\n",
    "import string\n",
    "import tensorflow as tf\n",
    "import warnings\n",
    "warnings.filterwarnings(\"ignore\")\n",
    "\n",
    "import nltk\n",
    "nltk.download('stopwords')\n",
    "nltk.download(\"wordnet\")\n",
    "nltk.download('averaged_perceptron_tagger')\n",
    "nltk.download('punkt')\n",
    "from nltk.stem import WordNetLemmatizer # lemmatizer\n",
    "from nltk.tokenize import word_tokenize\n",
    "from textblob import Word\n",
    "from nltk.corpus import stopwords\n",
    "from nltk.corpus import wordnet\n",
    "\n",
    "# data augmentation\n",
    "import nlpaug.augmenter.word as naw\n",
    "import nlpaug.flow as nafc\n",
    "from nlpaug.util import Action\n",
    "\n",
    "from sklearn.model_selection import train_test_split\n",
    "from sklearn.preprocessing import LabelEncoder\n",
    "from sklearn.metrics import classification_report,confusion_matrix,accuracy_score\n",
    "\n",
    "import tensorflow as tf\n",
    "from tensorflow import keras\n",
    "from tensorflow.keras import layers\n",
    "from tensorflow.keras import losses\n",
    "from tensorflow.keras.layers import TextVectorization\n",
    "from tensorflow.keras.layers import StringLookup"
   ]
  },
  {
   "cell_type": "code",
   "execution_count": 12,
   "metadata": {
    "colab": {
     "base_uri": "https://localhost:8080/"
    },
    "id": "BOt7ucj89hXD",
    "outputId": "694f580a-ab3f-424b-9ae1-7fb816299277",
    "tags": []
   },
   "outputs": [],
   "source": [
    "# from google.colab import drive\n",
    "# drive.mount('/content/drive')"
   ]
  },
  {
   "cell_type": "code",
   "execution_count": 40,
   "metadata": {
    "colab": {
     "base_uri": "https://localhost:8080/"
    },
    "id": "TgBorE559oRD",
    "outputId": "e673e1df-243e-4684-87b5-d41766098fee",
    "tags": []
   },
   "outputs": [
    {
     "name": "stdout",
     "output_type": "stream",
     "text": [
      "Index(['Sentence', 'Sentiment'], dtype='object')\n",
      "Index(['title', 'content'], dtype='object')\n"
     ]
    }
   ],
   "source": [
    "fin_data = pd.read_csv(\"/Users/songyujun/Documents/GitHub/PIC16B---Project/fin_data.csv\")\n",
    "positive = pd.read_csv(\"/Users/songyujun/Documents/GitHub/PIC16B---Project/articles.csv\")\n",
    "print(fin_data.columns)\n",
    "print(positive.columns)"
   ]
  },
  {
   "cell_type": "code",
   "execution_count": 41,
   "metadata": {
    "id": "SNISJ8R-GHv3",
    "tags": []
   },
   "outputs": [],
   "source": [
    "positive['Sentiment'] = 'positive'"
   ]
  },
  {
   "cell_type": "code",
   "execution_count": 42,
   "metadata": {
    "id": "ubt3Yyw4GZga",
    "tags": []
   },
   "outputs": [],
   "source": [
    "# take half of positive and merge the title portion and the content portion into the fin_data, separately\n",
    "rows = positive.shape[0]\n",
    "positive = positive.sample(frac=1)\n",
    "merge = positive.iloc[:int(rows/2)]"
   ]
  },
  {
   "cell_type": "code",
   "execution_count": 43,
   "metadata": {
    "colab": {
     "base_uri": "https://localhost:8080/"
    },
    "id": "ZbX1PujiGGdn",
    "outputId": "51c619ac-5613-4ce1-f682-564bdbc3db2f",
    "tags": []
   },
   "outputs": [
    {
     "data": {
      "text/plain": [
       "Sentiment\n",
       "negative     860\n",
       "neutral     3130\n",
       "positive    3095\n",
       "dtype: int64"
      ]
     },
     "execution_count": 43,
     "metadata": {},
     "output_type": "execute_result"
    }
   ],
   "source": [
    "# title merge\n",
    "title = merge[['title', 'Sentiment']]\n",
    "title.rename(columns = {'title': 'Sentence'}, inplace = True)\n",
    "data_t = pd.concat([fin_data, title], axis = 0)\n",
    "data_t = data_t.reset_index()\n",
    "data_t.drop(columns = 'index', inplace = True)\n",
    "data_t = data_t.sample(frac=1)\n",
    "data_t.groupby(\"Sentiment\").apply(len)"
   ]
  },
  {
   "cell_type": "code",
   "execution_count": 64,
   "metadata": {
    "id": "mz3LSte_cMpc",
    "tags": []
   },
   "outputs": [],
   "source": [
    "# number of negative insufficient\n",
    "# try1: use data augmentation to increase the number, augment 1 negative into 3 new sentences\n",
    "aug1 = naw.ContextualWordEmbsAug(model_path='bert-base-uncased', action=\"insert\")\n",
    "aug2 = naw.ContextualWordEmbsAug(model_path='distilbert-base-uncased', action=\"substitute\")\n",
    "aug3 = naw.ContextualWordEmbsAug(model_path='roberta-base', action=\"substitute\")\n",
    "\n",
    "negative = data_t[data_t[\"Sentiment\"] == \"negative\"]"
   ]
  },
  {
   "cell_type": "code",
   "execution_count": 66,
   "metadata": {
    "tags": []
   },
   "outputs": [],
   "source": [
    "negative_aug1 = negative[\"Sentence\"].apply(aug1.augment) # don't run this again, so slow"
   ]
  },
  {
   "cell_type": "code",
   "execution_count": 77,
   "metadata": {
    "tags": []
   },
   "outputs": [],
   "source": [
    "negative_aug2 = negative[\"Sentence\"].apply(aug2.augment) # same as above"
   ]
  },
  {
   "cell_type": "code",
   "execution_count": 78,
   "metadata": {
    "tags": []
   },
   "outputs": [],
   "source": [
    "negative_aug3 = negative[\"Sentence\"].apply(aug3.augment) # same as above"
   ]
  },
  {
   "cell_type": "code",
   "execution_count": 81,
   "metadata": {
    "tags": []
   },
   "outputs": [
    {
     "name": "stdout",
     "output_type": "stream",
     "text": [
      "SSH COMMUNICATIONS SECURITY CORP STOCK EXCHANGE RELEASE OCTOBER 14 , 2008 AT 2:45 PM The Company updates its full year outlook and estimates its results to remain at loss for the full year .\n",
      "\n",
      "\n",
      "ssh communications network security corp stock and exchange release october 20th 14, 2008 at 2 : 45 pm the company updates its latest full 10 year market outlook further and estimates overall its business results to still remain at loss for the full year.\n",
      "\n",
      "\n",
      "· fidelity security corp stock exchange release october 14, 2008 approximately 2 : 45 noon the gao provided a full year outlook which estimates its results to remain at loss for each previous year.\n",
      "\n",
      "\n",
      "SSH Investments GROUP CORP STOCK EXCHANGE RELEASE OCTOBER 14, 2008 · 2:45 PM The Company updates recent full year earnings and estimates financial results to sit at levels at the 2012 year.\n"
     ]
    }
   ],
   "source": [
    "# compare\n",
    "print(negative.loc[7][\"Sentence\"])\n",
    "print('\\n')\n",
    "print(negative_aug1.loc[7][0])\n",
    "print('\\n')\n",
    "print(negative_aug2.loc[7][0])\n",
    "print('\\n')\n",
    "print(negative_aug3.loc[7][0])"
   ]
  },
  {
   "cell_type": "code",
   "execution_count": 100,
   "metadata": {
    "tags": []
   },
   "outputs": [],
   "source": [
    "negative_1 = [i[0] for i in negative_aug1]\n",
    "negative_1 = pd.DataFrame(negative_1)\n",
    "negative_1.rename(columns = {0: \"Sentence\"}, inplace = True)\n",
    "negative_1[\"Sentiment\"] = \"negative\"\n",
    "negative_2 = [i[0] for i in negative_aug2]\n",
    "negative_2 = pd.DataFrame(negative_2)\n",
    "negative_2.rename(columns = {0: \"Sentence\"}, inplace = True)\n",
    "negative_2[\"Sentiment\"] = \"negative\"\n",
    "negative_3 = [i[0] for i in negative_aug3]\n",
    "negative_3 = pd.DataFrame(negative_3)\n",
    "negative_3.rename(columns = {0: \"Sentence\"}, inplace = True)\n",
    "negative_3[\"Sentiment\"] = \"negative\""
   ]
  },
  {
   "cell_type": "code",
   "execution_count": 102,
   "metadata": {
    "tags": []
   },
   "outputs": [],
   "source": [
    "data_t = pd.concat([data_t, negative_1, negative_2, negative_3], axis = 0)"
   ]
  },
  {
   "cell_type": "code",
   "execution_count": 104,
   "metadata": {
    "tags": []
   },
   "outputs": [
    {
     "data": {
      "text/plain": [
       "Sentiment\n",
       "negative    3440\n",
       "neutral     3130\n",
       "positive    3095\n",
       "dtype: int64"
      ]
     },
     "execution_count": 104,
     "metadata": {},
     "output_type": "execute_result"
    }
   ],
   "source": [
    "data_t.groupby(\"Sentiment\").apply(len)"
   ]
  },
  {
   "cell_type": "code",
   "execution_count": 105,
   "metadata": {
    "tags": []
   },
   "outputs": [],
   "source": [
    "data_t.to_csv(\"negative_augmented_version.csv\")"
   ]
  },
  {
   "cell_type": "code",
   "execution_count": 106,
   "metadata": {
    "colab": {
     "base_uri": "https://localhost:8080/"
    },
    "id": "ve_HQjrwnDk5",
    "outputId": "406d6aa3-c6bc-4ed5-e148-54ece0689593",
    "tags": []
   },
   "outputs": [
    {
     "data": {
      "text/plain": [
       "0.35592343507501295"
      ]
     },
     "execution_count": 106,
     "metadata": {},
     "output_type": "execute_result"
    }
   ],
   "source": [
    "# baseline prediction\n",
    "baseline = data_t.groupby(\"Sentiment\").apply(len)\n",
    "negative = baseline[0]\n",
    "neutral = baseline[1]\n",
    "positive = baseline[2]\n",
    "baseline_pred = max(negative, neutral, positive) / np.sum([negative, neutral, positive])\n",
    "baseline_pred"
   ]
  },
  {
   "cell_type": "code",
   "execution_count": 107,
   "metadata": {
    "colab": {
     "base_uri": "https://localhost:8080/",
     "height": 204
    },
    "id": "Q9OBA8qmQ41f",
    "outputId": "37434ed9-2aa0-4d5e-96be-5a98a8178644",
    "tags": []
   },
   "outputs": [
    {
     "data": {
      "text/html": [
       "<div>\n",
       "<style scoped>\n",
       "    .dataframe tbody tr th:only-of-type {\n",
       "        vertical-align: middle;\n",
       "    }\n",
       "\n",
       "    .dataframe tbody tr th {\n",
       "        vertical-align: top;\n",
       "    }\n",
       "\n",
       "    .dataframe thead th {\n",
       "        text-align: right;\n",
       "    }\n",
       "</style>\n",
       "<table border=\"1\" class=\"dataframe\">\n",
       "  <thead>\n",
       "    <tr style=\"text-align: right;\">\n",
       "      <th></th>\n",
       "      <th>Sentence</th>\n",
       "      <th>Sentiment</th>\n",
       "      <th>Category</th>\n",
       "    </tr>\n",
       "  </thead>\n",
       "  <tbody>\n",
       "    <tr>\n",
       "      <th>1583</th>\n",
       "      <td>The sales of the Tiimari segment fell by 4.0 %...</td>\n",
       "      <td>negative</td>\n",
       "      <td>0</td>\n",
       "    </tr>\n",
       "    <tr>\n",
       "      <th>3053</th>\n",
       "      <td>With the U.S. Federal Government putting a sta...</td>\n",
       "      <td>neutral</td>\n",
       "      <td>1</td>\n",
       "    </tr>\n",
       "    <tr>\n",
       "      <th>66</th>\n",
       "      <td>Finnish GeoSentric 's net sales decreased to E...</td>\n",
       "      <td>negative</td>\n",
       "      <td>0</td>\n",
       "    </tr>\n",
       "    <tr>\n",
       "      <th>4472</th>\n",
       "      <td>In 2009 , Comptel slipped to a net loss of EUR...</td>\n",
       "      <td>negative</td>\n",
       "      <td>0</td>\n",
       "    </tr>\n",
       "    <tr>\n",
       "      <th>3471</th>\n",
       "      <td>The sellers were EOSS Innovationsmanagement an...</td>\n",
       "      <td>neutral</td>\n",
       "      <td>1</td>\n",
       "    </tr>\n",
       "  </tbody>\n",
       "</table>\n",
       "</div>"
      ],
      "text/plain": [
       "                                               Sentence Sentiment  Category\n",
       "1583  The sales of the Tiimari segment fell by 4.0 %...  negative         0\n",
       "3053  With the U.S. Federal Government putting a sta...   neutral         1\n",
       "66    Finnish GeoSentric 's net sales decreased to E...  negative         0\n",
       "4472  In 2009 , Comptel slipped to a net loss of EUR...  negative         0\n",
       "3471  The sellers were EOSS Innovationsmanagement an...   neutral         1"
      ]
     },
     "execution_count": 107,
     "metadata": {},
     "output_type": "execute_result"
    }
   ],
   "source": [
    "# labeling train set\n",
    "le = LabelEncoder()\n",
    "data_t['Category'] = le.fit_transform(data_t['Sentiment'])\n",
    "data_t.head()"
   ]
  },
  {
   "cell_type": "code",
   "execution_count": 100,
   "metadata": {
    "tags": []
   },
   "outputs": [],
   "source": [
    "lemmatizer = WordNetLemmatizer()\n",
    "\n",
    "# Function to convert NLTK's POS tags to WordNet's format\n",
    "def get_wordnet_pos(treebank_tag):\n",
    "    if treebank_tag.startswith('J'):\n",
    "        return wordnet.ADJ\n",
    "    elif treebank_tag.startswith('V'):\n",
    "        return wordnet.VERB\n",
    "    elif treebank_tag.startswith('N'):\n",
    "        return wordnet.NOUN\n",
    "    elif treebank_tag.startswith('R'):\n",
    "        return wordnet.ADV\n",
    "    else:\n",
    "        return None\n",
    "\n",
    "# for .apply()\n",
    "def lemma(x):\n",
    "    tokens = word_tokenize(x)\n",
    "    tagged = nltk.pos_tag(tokens)\n",
    "    lemmatized_sentence = []\n",
    "    \n",
    "    for word, tag in tagged:\n",
    "        wordnet_pos = get_wordnet_pos(tag) or wordnet.NOUN\n",
    "        lemmatized_sentence.append(lemmatizer.lemmatize(word, pos=wordnet_pos))\n",
    "        \n",
    "    return ' '.join(lemmatized_sentence)"
   ]
  },
  {
   "cell_type": "code",
   "execution_count": 105,
   "metadata": {
    "tags": []
   },
   "outputs": [
    {
     "data": {
      "text/plain": [
       "'pass , bad , continent , sleep'"
      ]
     },
     "execution_count": 105,
     "metadata": {},
     "output_type": "execute_result"
    }
   ],
   "source": [
    "x = \"passed, worse, continents, slept\"\n",
    "lemma(x)"
   ]
  },
  {
   "cell_type": "code",
   "execution_count": 108,
   "metadata": {
    "id": "VKKKJCVDPIvC",
    "tags": []
   },
   "outputs": [],
   "source": [
    "# clean text so that no capitalized letter and no stopping words\n",
    "\n",
    "# Lemmatizer\n",
    "lemmatizer = WordNetLemmatizer()\n",
    "\n",
    "# Function to convert NLTK's POS tags to WordNet's format\n",
    "def get_wordnet_pos(treebank_tag):\n",
    "    if treebank_tag.startswith('J'):\n",
    "        return wordnet.ADJ\n",
    "    elif treebank_tag.startswith('V'):\n",
    "        return wordnet.VERB\n",
    "    elif treebank_tag.startswith('N'):\n",
    "        return wordnet.NOUN\n",
    "    elif treebank_tag.startswith('R'):\n",
    "        return wordnet.ADV\n",
    "    else:\n",
    "        return None\n",
    "\n",
    "# for .apply()\n",
    "def lemma(x):\n",
    "    tokens = word_tokenize(x)\n",
    "    tagged = nltk.pos_tag(tokens)\n",
    "    lemmatized_sentence = []\n",
    "    \n",
    "    for word, tag in tagged:\n",
    "        wordnet_pos = get_wordnet_pos(tag) or wordnet.NOUN\n",
    "        lemmatized_sentence.append(lemmatizer.lemmatize(word, pos=wordnet_pos))\n",
    "        \n",
    "    return ' '.join(lemmatized_sentence)\n",
    "\n",
    "def make_dataset(stop, df):\n",
    "    \n",
    "    # change into lower case first\n",
    "    df['cleaned'] = df['Sentence'].apply(lambda x: x.lower())\n",
    "    \n",
    "    # remove stopwords\n",
    "    df['cleaned'] = df['cleaned'].apply(lambda x: ' '.join([word for word in x.split() if word not in stop]))\n",
    "    \n",
    "    # stemming\n",
    "    df['cleaned'] = df['cleaned'].apply(lambda x: lemma(x))\n",
    "    \n",
    "    data = tf.data.Dataset.from_tensor_slices((df['cleaned'], df['Category']))\n",
    "    \n",
    "    return data\n"
   ]
  },
  {
   "cell_type": "code",
   "execution_count": 109,
   "metadata": {
    "id": "joD91ObVJTna",
    "tags": []
   },
   "outputs": [],
   "source": [
    "stop = stopwords.words(\"english\")"
   ]
  },
  {
   "cell_type": "code",
   "execution_count": 110,
   "metadata": {
    "colab": {
     "base_uri": "https://localhost:8080/"
    },
    "id": "ZLMMhkdkITxZ",
    "outputId": "3bd04932-db51-4cf2-8bff-04e9c29d766d",
    "tags": []
   },
   "outputs": [
    {
     "name": "stdout",
     "output_type": "stream",
     "text": [
      "6765\n",
      "1933\n",
      "967\n"
     ]
    }
   ],
   "source": [
    "# preparation before modelling\n",
    "\n",
    "# tensorflow dataset and test set\n",
    "data_title = make_dataset(stop, data_t)\n",
    "\n",
    "data_title = data_title.shuffle(buffer_size = len(data_title), reshuffle_each_iteration=False)\n",
    "train_size = int(0.7*len(data_title))\n",
    "val_size = int(0.2*len(data_title))\n",
    "train = data_title.take(train_size)\n",
    "val = data_title.skip(train_size).take(val_size)\n",
    "test = data_title.skip(train_size + val_size)\n",
    "\n",
    "print(len(train))\n",
    "print(len(val))\n",
    "print(len(test))"
   ]
  },
  {
   "cell_type": "code",
   "execution_count": 111,
   "metadata": {
    "id": "fwg8dCBaXFWf",
    "tags": []
   },
   "outputs": [],
   "source": [
    "# remove punctuation\n",
    "def remove_punc(input_data):\n",
    "    no_punctuation = tf.strings.regex_replace(input_data,\n",
    "                                             '[%s]' % re.escape(string.punctuation),'')\n",
    "    return no_punctuation"
   ]
  },
  {
   "cell_type": "code",
   "execution_count": 112,
   "metadata": {
    "id": "AWObrP0yDRW_",
    "tags": []
   },
   "outputs": [],
   "source": [
    "# vectorize_layer\n",
    "\n",
    "# only the top distinct words will be tracked\n",
    "max_tokens = 3000\n",
    "\n",
    "# each sentence will be a vector of length 25\n",
    "sequence_length = 50\n",
    "\n",
    "vectorize_layer = TextVectorization(\n",
    "    standardize=remove_punc,\n",
    "    max_tokens=max_tokens, # only consider this many words\n",
    "    output_mode='int',\n",
    "    output_sequence_length=sequence_length)\n",
    "\n",
    "vectorize_layer.adapt(train.map(lambda x, y: x))\n",
    "\n",
    "def vectorize_text(text, label):\n",
    "    text = tf.expand_dims(text, -1)\n",
    "    return vectorize_layer(text), [label]\n",
    "\n",
    "train_vec = train.map(vectorize_text)\n",
    "val_vec   = val.map(vectorize_text)\n",
    "test_vec = test.map(vectorize_text)"
   ]
  },
  {
   "cell_type": "code",
   "execution_count": 113,
   "metadata": {
    "id": "dif3Y59kh5SJ",
    "tags": []
   },
   "outputs": [],
   "source": [
    "# Model\n",
    "model_t = tf.keras.Sequential([\n",
    "  layers.Embedding(max_tokens, output_dim = 10, name=\"embedding\"),\n",
    "  layers.Dropout(0.2), # one of the regularization\n",
    "  layers.GlobalAveragePooling1D(),\n",
    "  layers.Dropout(0.2),\n",
    "  layers.Dense(3)]\n",
    ")"
   ]
  },
  {
   "cell_type": "code",
   "execution_count": 114,
   "metadata": {
    "colab": {
     "base_uri": "https://localhost:8080/"
    },
    "id": "a6LtqTC0d655",
    "outputId": "99e29d4d-7f31-42c3-8f1d-04c1bc1b91e9",
    "tags": []
   },
   "outputs": [
    {
     "name": "stdout",
     "output_type": "stream",
     "text": [
      "Model: \"sequential\"\n",
      "_________________________________________________________________\n",
      " Layer (type)                Output Shape              Param #   \n",
      "=================================================================\n",
      " embedding (Embedding)       (None, None, 10)          30000     \n",
      "                                                                 \n",
      " dropout (Dropout)           (None, None, 10)          0         \n",
      "                                                                 \n",
      " global_average_pooling1d (  (None, 10)                0         \n",
      " GlobalAveragePooling1D)                                         \n",
      "                                                                 \n",
      " dropout_1 (Dropout)         (None, 10)                0         \n",
      "                                                                 \n",
      " dense (Dense)               (None, 3)                 33        \n",
      "                                                                 \n",
      "=================================================================\n",
      "Total params: 30033 (117.32 KB)\n",
      "Trainable params: 30033 (117.32 KB)\n",
      "Non-trainable params: 0 (0.00 Byte)\n",
      "_________________________________________________________________\n"
     ]
    }
   ],
   "source": [
    "model_t.summary()"
   ]
  },
  {
   "cell_type": "code",
   "execution_count": 115,
   "metadata": {
    "colab": {
     "base_uri": "https://localhost:8080/"
    },
    "id": "h71lAfM9EZRo",
    "outputId": "29c40972-4d9f-46ef-9c2d-753878868284",
    "tags": []
   },
   "outputs": [
    {
     "name": "stdout",
     "output_type": "stream",
     "text": [
      "Epoch 1/10\n",
      "6765/6765 [==============================] - 15s 2ms/step - loss: 1.0454 - accuracy: 0.4851 - val_loss: 0.9606 - val_accuracy: 0.6539\n",
      "Epoch 2/10\n",
      "6765/6765 [==============================] - 14s 2ms/step - loss: 0.8765 - accuracy: 0.6511 - val_loss: 0.8129 - val_accuracy: 0.6937\n",
      "Epoch 3/10\n",
      "6765/6765 [==============================] - 12s 2ms/step - loss: 0.7285 - accuracy: 0.7162 - val_loss: 0.7176 - val_accuracy: 0.7212\n",
      "Epoch 4/10\n",
      "6765/6765 [==============================] - 11s 2ms/step - loss: 0.6276 - accuracy: 0.7619 - val_loss: 0.6674 - val_accuracy: 0.7310\n",
      "Epoch 5/10\n",
      "6765/6765 [==============================] - 12s 2ms/step - loss: 0.5667 - accuracy: 0.7802 - val_loss: 0.6408 - val_accuracy: 0.7310\n",
      "Epoch 6/10\n",
      "6765/6765 [==============================] - 12s 2ms/step - loss: 0.5233 - accuracy: 0.8016 - val_loss: 0.6282 - val_accuracy: 0.7362\n",
      "Epoch 7/10\n",
      "6765/6765 [==============================] - 12s 2ms/step - loss: 0.4876 - accuracy: 0.8130 - val_loss: 0.6252 - val_accuracy: 0.7475\n",
      "Epoch 8/10\n",
      "6765/6765 [==============================] - 12s 2ms/step - loss: 0.4643 - accuracy: 0.8174 - val_loss: 0.6374 - val_accuracy: 0.7320\n",
      "Epoch 9/10\n",
      "6765/6765 [==============================] - 12s 2ms/step - loss: 0.4458 - accuracy: 0.8285 - val_loss: 0.6367 - val_accuracy: 0.7367\n",
      "Epoch 10/10\n",
      "6765/6765 [==============================] - 11s 2ms/step - loss: 0.4316 - accuracy: 0.8333 - val_loss: 0.6375 - val_accuracy: 0.7393\n"
     ]
    }
   ],
   "source": [
    "# compile and history\n",
    "model_t.compile(loss=losses.SparseCategoricalCrossentropy(from_logits=True),\n",
    "              optimizer='adam',\n",
    "              metrics=['accuracy'])\n",
    "\n",
    "callback = tf.keras.callbacks.EarlyStopping(monitor='val_loss', patience=3)\n",
    "\n",
    "history = model_t.fit(train_vec, epochs = 10, validation_data = val_vec, callbacks=[callback], verbose = True)"
   ]
  },
  {
   "cell_type": "code",
   "execution_count": 116,
   "metadata": {
    "colab": {
     "base_uri": "https://localhost:8080/",
     "height": 466
    },
    "id": "CRMGYIj7Evtx",
    "outputId": "723868cf-ee71-4cc5-f45d-52d97a04526a",
    "tags": []
   },
   "outputs": [
    {
     "data": {
      "text/plain": [
       "<matplotlib.legend.Legend at 0x173cbea10>"
      ]
     },
     "execution_count": 116,
     "metadata": {},
     "output_type": "execute_result"
    },
    {
     "data": {
      "image/png": "[encoded data removed]",
      "text/plain": [
       "<Figure size 640x480 with 1 Axes>"
      ]
     },
     "metadata": {},
     "output_type": "display_data"
    }
   ],
   "source": [
    "from matplotlib import pyplot as plt\n",
    "plt.plot(history.history[\"accuracy\"], label = \"training\")\n",
    "plt.plot(history.history[\"val_accuracy\"], label = \"validation\")\n",
    "plt.gca().set(xlabel = \"epoch\", ylabel = \"accuracy\")\n",
    "plt.legend()"
   ]
  },
  {
   "cell_type": "code",
   "execution_count": 117,
   "metadata": {
    "colab": {
     "base_uri": "https://localhost:8080/"
    },
    "id": "m6_OAoi1G711",
    "outputId": "ee9e7d74-cd01-4dfb-8bca-2f66fc79b427",
    "tags": []
   },
   "outputs": [
    {
     "name": "stdout",
     "output_type": "stream",
     "text": [
      "967/967 [==============================] - 1s 1ms/step - loss: 0.6673 - accuracy: 0.7363\n"
     ]
    },
    {
     "data": {
      "text/plain": [
       "[0.6672511696815491, 0.7362978458404541]"
      ]
     },
     "execution_count": 117,
     "metadata": {},
     "output_type": "execute_result"
    }
   ],
   "source": [
    "# test_vec2  = test_title.map(vectorize_text)\n",
    "model_t.evaluate(test_vec)"
   ]
  },
  {
   "cell_type": "code",
   "execution_count": null,
   "metadata": {
    "id": "5UhI3d4pk78L"
   },
   "outputs": [],
   "source": [
    "# content\n",
    "content = merge[['content', 'Sentiment']]\n",
    "content.rename(columns = {'content': 'Sentence'}, inplace = True)\n",
    "data_c = pd.concat([fin_data, content], axis = 0)\n",
    "data_c = data_c.reset_index()\n",
    "data_c.drop(columns = 'index', inplace = True)\n",
    "data_c = data_c.sample(frac=1)\n",
    "\n",
    "le = LabelEncoder()\n",
    "data_c['Category'] = le.fit_transform(data_c['Sentiment'])\n",
    "\n",
    "# title test\n",
    "# content_test = test[['content', 'Sentiment']]\n",
    "# content_test.rename(columns = {'content' : 'Sentence'}, inplace = True)\n",
    "\n",
    "# labeling test set\n",
    "# content_test['Category'] = le.fit_transform(title_test['Sentiment']) + 2\n",
    "\n",
    "data_content = make_dataset(stop, data_c)\n",
    "# test_content = make_dataset(stop, content_test)\n",
    "\n",
    "data_content = data_content.shuffle(buffer_size = len(data_title), reshuffle_each_iteration=False)\n",
    "train_size = int(0.7*len(data_content))\n",
    "val_size = int(0.2*len(data_content))\n",
    "train = data_title.take(train_size)\n",
    "val = data_title.skip(train_size).take(val_size)\n",
    "test = data_title.skip(train_size + val_size)\n",
    "\n",
    "train_vec = train.map(vectorize_text)\n",
    "val_vec   = val.map(vectorize_text)\n",
    "test_vec = val.map(vectorize_text)\n",
    "\n",
    "# Model\n",
    "model_c = tf.keras.Sequential([\n",
    "  layers.Embedding(max_tokens, output_dim = 10, name=\"embedding\"),\n",
    "  layers.Dropout(0.2), # one of the regularization\n",
    "  layers.GlobalAveragePooling1D(),\n",
    "  layers.Dropout(0.2),\n",
    "  layers.Dense(3)]\n",
    ")"
   ]
  },
  {
   "cell_type": "code",
   "execution_count": null,
   "metadata": {
    "colab": {
     "base_uri": "https://localhost:8080/"
    },
    "id": "mu7JscP8kvO2",
    "outputId": "6fe7d40d-bcde-4459-a652-4cee945c9a97"
   },
   "outputs": [
    {
     "name": "stdout",
     "output_type": "stream",
     "text": [
      "Epoch 1/10\n",
      "4959/4959 [==============================] - 23s 4ms/step - loss: 0.9552 - accuracy: 0.5350 - val_loss: 0.9048 - val_accuracy: 0.6366\n",
      "Epoch 2/10\n",
      "4959/4959 [==============================] - 20s 4ms/step - loss: 0.8123 - accuracy: 0.6808 - val_loss: 0.7834 - val_accuracy: 0.6718\n",
      "Epoch 3/10\n",
      "4959/4959 [==============================] - 24s 5ms/step - loss: 0.6766 - accuracy: 0.7379 - val_loss: 0.7162 - val_accuracy: 0.6824\n",
      "Epoch 4/10\n",
      "4959/4959 [==============================] - 19s 4ms/step - loss: 0.5896 - accuracy: 0.7679 - val_loss: 0.6828 - val_accuracy: 0.6958\n",
      "Epoch 5/10\n",
      "4959/4959 [==============================] - 22s 4ms/step - loss: 0.5283 - accuracy: 0.7881 - val_loss: 0.6747 - val_accuracy: 0.7001\n",
      "Epoch 6/10\n",
      "4959/4959 [==============================] - 19s 4ms/step - loss: 0.4949 - accuracy: 0.7965 - val_loss: 0.6776 - val_accuracy: 0.7057\n",
      "Epoch 7/10\n",
      "4959/4959 [==============================] - 19s 4ms/step - loss: 0.4714 - accuracy: 0.8066 - val_loss: 0.6870 - val_accuracy: 0.7022\n",
      "Epoch 8/10\n",
      "4959/4959 [==============================] - 19s 4ms/step - loss: 0.4571 - accuracy: 0.8171 - val_loss: 0.6976 - val_accuracy: 0.7043\n"
     ]
    }
   ],
   "source": [
    "# compile and history\n",
    "model_c.compile(loss=losses.SparseCategoricalCrossentropy(from_logits=True),\n",
    "              optimizer='adam',\n",
    "              metrics=['accuracy'])\n",
    "\n",
    "callback = tf.keras.callbacks.EarlyStopping(monitor='val_loss', patience=3)\n",
    "\n",
    "history = model_c.fit(train_vec, epochs = 10, validation_data = val_vec, callbacks=[callback], verbose = True)"
   ]
  },
  {
   "cell_type": "code",
   "execution_count": null,
   "metadata": {
    "colab": {
     "base_uri": "https://localhost:8080/"
    },
    "id": "nLEmrENBl0D6",
    "outputId": "e2d37f36-39a0-4921-fb32-5797af76a67a"
   },
   "outputs": [
    {
     "name": "stdout",
     "output_type": "stream",
     "text": [
      "1417/1417 [==============================] - 6s 4ms/step - loss: 0.6976 - accuracy: 0.7043\n"
     ]
    },
    {
     "data": {
      "text/plain": [
       "[0.6975756287574768, 0.7043048739433289]"
      ]
     },
     "execution_count": 38,
     "metadata": {},
     "output_type": "execute_result"
    }
   ],
   "source": [
    "model_c.evaluate(test_vec)"
   ]
  },
  {
   "cell_type": "code",
   "execution_count": null,
   "metadata": {
    "id": "YDxjJKkFmy2P"
   },
   "outputs": [],
   "source": [
    "# LSTM later"
   ]
  },
  {
   "cell_type": "code",
   "execution_count": 118,
   "metadata": {
    "id": "oKcKemsxA05a",
    "tags": []
   },
   "outputs": [],
   "source": [
    "starbucks = pd.read_csv(\"/Users/songyujun/Documents/GitHub/PIC16B---Project/Starbucks_news.csv\")"
   ]
  },
  {
   "cell_type": "code",
   "execution_count": null,
   "metadata": {
    "id": "LZfS9LELFDRQ"
   },
   "outputs": [],
   "source": [
    "def make_dataset(stop, df):\n",
    "    # change into lower case first\n",
    "    df['cleaned'] = df['Sentence'].apply(lambda x: x.lower())\n",
    "    \n",
    "    # remove stopwords\n",
    "    df['cleaned'] = df['cleaned'].apply(lambda x: ' '.join([word for word in x.split() if word not in stop]))\n",
    "    \n",
    "    # stemming\n",
    "    df['cleaned'] = df['cleaned'].apply(lambda x: lemma(x))\n",
    "    \n",
    "    data = tf.data.Dataset.from_tensor_slices((df['cleaned']))\n",
    "    \n",
    "    return data\n",
    "\n",
    "def vectorize_text(text):\n",
    "    text = tf.expand_dims(text, -1)\n",
    "    return vectorize_layer(text)"
   ]
  },
  {
   "cell_type": "code",
   "execution_count": 124,
   "metadata": {
    "id": "2UeW78PrCqX_",
    "tags": []
   },
   "outputs": [],
   "source": [
    "title = pd.DataFrame(starbucks['title'])\n",
    "title.rename(columns = {'title': \"Sentence\"}, inplace = True)\n",
    "title[\"Category\"] = 0"
   ]
  },
  {
   "cell_type": "code",
   "execution_count": 125,
   "metadata": {
    "id": "O_hQxyiTJC-7",
    "tags": []
   },
   "outputs": [],
   "source": [
    "title = make_dataset(stop, title)"
   ]
  },
  {
   "cell_type": "code",
   "execution_count": 126,
   "metadata": {
    "id": "FES4ayL-CxkZ",
    "tags": []
   },
   "outputs": [],
   "source": [
    "real = title.map(vectorize_text)"
   ]
  },
  {
   "cell_type": "code",
   "execution_count": 127,
   "metadata": {
    "colab": {
     "base_uri": "https://localhost:8080/"
    },
    "id": "66ThArPHFJtQ",
    "outputId": "917d7755-c7ce-4808-9bd2-08398d52ba2d",
    "tags": []
   },
   "outputs": [
    {
     "name": "stdout",
     "output_type": "stream",
     "text": [
      "7488/7488 [==============================] - 7s 972us/step\n"
     ]
    }
   ],
   "source": [
    "attitude = model_t.predict(real).argmax(axis=1)"
   ]
  },
  {
   "cell_type": "code",
   "execution_count": 133,
   "metadata": {
    "colab": {
     "base_uri": "https://localhost:8080/"
    },
    "id": "kZAJPzAJGF-f",
    "outputId": "d3906b83-03b4-47b0-cd87-5f7bab00e39e",
    "tags": []
   },
   "outputs": [
    {
     "data": {
      "text/plain": [
       "(2447, 1208, 3833)"
      ]
     },
     "execution_count": 133,
     "metadata": {},
     "output_type": "execute_result"
    }
   ],
   "source": [
    "sum(attitude==0), sum(attitude==1), sum(attitude==2)"
   ]
  },
  {
   "cell_type": "code",
   "execution_count": 137,
   "metadata": {
    "colab": {
     "base_uri": "https://localhost:8080/"
    },
    "id": "UvuuizwAGV6q",
    "outputId": "f3fbd3a4-e4c7-46fa-ab5e-2a35b3733ce4",
    "tags": []
   },
   "outputs": [],
   "source": [
    "starbucks['score1'] = attitude"
   ]
  },
  {
   "cell_type": "code",
   "execution_count": 144,
   "metadata": {
    "id": "XT0jZ_M8H2mP",
    "tags": []
   },
   "outputs": [
    {
     "name": "stdout",
     "output_type": "stream",
     "text": [
      "\" [Targeted] Chase Offers/BofA: Save 10% at Starbucks, up to $3 Cashback \" scores:  2\n",
      "\n",
      "\n",
      "\" IAC Stock Has Soared Through Spinoffs And Vimeo Is Next. Here’s Why You Should Take A Look. \" scores:  2\n",
      "\n",
      "\n",
      "\" ESG Flows Drive Clean Energy To Fresh Highs \" scores:  2\n",
      "\n",
      "\n",
      "\" McDonald's will launch 3 chicken sandwiches next month as it doubles down on chicken \" scores:  2\n",
      "\n",
      "\n",
      "\" Starbucks (SBUX) Gains But Lags Market: What You Should Know \" scores:  0\n",
      "\n",
      "\n"
     ]
    }
   ],
   "source": [
    "# check accuracy\n",
    "check = starbucks[:5][[\"title\", \"score1\"]]\n",
    "for i in range(5):\n",
    "    print('\"', check.iloc[i][\"title\"], '\"' , \"scores: \", check.iloc[i][\"score1\"])\n",
    "    print('\\n')"
   ]
  },
  {
   "cell_type": "code",
   "execution_count": 149,
   "metadata": {
    "colab": {
     "base_uri": "https://localhost:8080/"
    },
    "id": "oMkd6x2TLQPf",
    "outputId": "0f9ae62a-6a92-477b-f44c-353d71f28cfc",
    "tags": []
   },
   "outputs": [],
   "source": [
    "price_pred = starbucks[[\"date\", \"score1\"]]"
   ]
  },
  {
   "cell_type": "code",
   "execution_count": 150,
   "metadata": {
    "colab": {
     "base_uri": "https://localhost:8080/",
     "height": 204
    },
    "id": "d7HE3kbrLxv2",
    "outputId": "c6e9de48-3013-42c7-c15b-772887d87fc8",
    "tags": []
   },
   "outputs": [],
   "source": [
    "price_pred = price_pred.groupby(\"date\").apply(np.mean)"
   ]
  },
  {
   "cell_type": "code",
   "execution_count": 153,
   "metadata": {
    "colab": {
     "base_uri": "https://localhost:8080/",
     "height": 310
    },
    "id": "Z2WwMVfjVPR5",
    "outputId": "784eb3f9-3864-444b-9e6f-6e2ff781b5a0",
    "tags": []
   },
   "outputs": [],
   "source": [
    "price_pred = pd.DataFrame(price_pred)"
   ]
  },
  {
   "cell_type": "code",
   "execution_count": 155,
   "metadata": {
    "tags": []
   },
   "outputs": [],
   "source": [
    "price_pred.rename(columns = {0: \"score\"}, inplace = True)"
   ]
  },
  {
   "cell_type": "code",
   "execution_count": 156,
   "metadata": {
    "tags": []
   },
   "outputs": [],
   "source": [
    "price_pred.to_csv(\"scores.csv\")"
   ]
  },
  {
   "cell_type": "code",
   "execution_count": 6,
   "metadata": {
    "tags": []
   },
   "outputs": [],
   "source": [
    "price_pred = pd.read_csv(\"scores.csv\")"
   ]
  },
  {
   "cell_type": "code",
   "execution_count": 1,
   "metadata": {
    "tags": []
   },
   "outputs": [],
   "source": [
    "from yahoo_fin import stock_info as si\n",
    "\n",
    "company = si.get_data('sbux')\n",
    "company = company.loc[\"2021-01-04\":] # 01-04 is the first Monday of 2021.\n",
    "company[\"date\"] = company.index\n",
    "company = company.reset_index()\n",
    "company.drop(columns = \"index\", inplace = True)"
   ]
  },
  {
   "cell_type": "code",
   "execution_count": 69,
   "metadata": {
    "tags": []
   },
   "outputs": [
    {
     "data": {
      "text/html": [
       "<div>\n",
       "<style scoped>\n",
       "    .dataframe tbody tr th:only-of-type {\n",
       "        vertical-align: middle;\n",
       "    }\n",
       "\n",
       "    .dataframe tbody tr th {\n",
       "        vertical-align: top;\n",
       "    }\n",
       "\n",
       "    .dataframe thead th {\n",
       "        text-align: right;\n",
       "    }\n",
       "</style>\n",
       "<table border=\"1\" class=\"dataframe\">\n",
       "  <thead>\n",
       "    <tr style=\"text-align: right;\">\n",
       "      <th></th>\n",
       "      <th>date</th>\n",
       "    </tr>\n",
       "  </thead>\n",
       "  <tbody>\n",
       "    <tr>\n",
       "      <th>0</th>\n",
       "      <td>2021-01-04</td>\n",
       "    </tr>\n",
       "    <tr>\n",
       "      <th>1</th>\n",
       "      <td>2021-01-05</td>\n",
       "    </tr>\n",
       "    <tr>\n",
       "      <th>2</th>\n",
       "      <td>2021-01-06</td>\n",
       "    </tr>\n",
       "    <tr>\n",
       "      <th>3</th>\n",
       "      <td>2021-01-07</td>\n",
       "    </tr>\n",
       "    <tr>\n",
       "      <th>4</th>\n",
       "      <td>2021-01-08</td>\n",
       "    </tr>\n",
       "    <tr>\n",
       "      <th>...</th>\n",
       "      <td>...</td>\n",
       "    </tr>\n",
       "    <tr>\n",
       "      <th>731</th>\n",
       "      <td>2023-11-29</td>\n",
       "    </tr>\n",
       "    <tr>\n",
       "      <th>732</th>\n",
       "      <td>2023-11-30</td>\n",
       "    </tr>\n",
       "    <tr>\n",
       "      <th>733</th>\n",
       "      <td>2023-12-01</td>\n",
       "    </tr>\n",
       "    <tr>\n",
       "      <th>734</th>\n",
       "      <td>2023-12-04</td>\n",
       "    </tr>\n",
       "    <tr>\n",
       "      <th>735</th>\n",
       "      <td>2023-12-05</td>\n",
       "    </tr>\n",
       "  </tbody>\n",
       "</table>\n",
       "<p>736 rows × 1 columns</p>\n",
       "</div>"
      ],
      "text/plain": [
       "          date\n",
       "0   2021-01-04\n",
       "1   2021-01-05\n",
       "2   2021-01-06\n",
       "3   2021-01-07\n",
       "4   2021-01-08\n",
       "..         ...\n",
       "731 2023-11-29\n",
       "732 2023-11-30\n",
       "733 2023-12-01\n",
       "734 2023-12-04\n",
       "735 2023-12-05\n",
       "\n",
       "[736 rows x 1 columns]"
      ]
     },
     "execution_count": 69,
     "metadata": {},
     "output_type": "execute_result"
    }
   ],
   "source": [
    "date = company[['date']]\n",
    "date"
   ]
  },
  {
   "cell_type": "code",
   "execution_count": 71,
   "metadata": {
    "tags": []
   },
   "outputs": [],
   "source": [
    "date = date[date['date'] < \"2023-11-15\"]\n",
    "date = date['date'].dt.strftime('%Y-%m-%d')"
   ]
  },
  {
   "cell_type": "code",
   "execution_count": 72,
   "metadata": {
    "tags": []
   },
   "outputs": [],
   "source": [
    "date = pd.DataFrame(date)"
   ]
  },
  {
   "cell_type": "code",
   "execution_count": 73,
   "metadata": {
    "tags": []
   },
   "outputs": [
    {
     "data": {
      "text/html": [
       "<div>\n",
       "<style scoped>\n",
       "    .dataframe tbody tr th:only-of-type {\n",
       "        vertical-align: middle;\n",
       "    }\n",
       "\n",
       "    .dataframe tbody tr th {\n",
       "        vertical-align: top;\n",
       "    }\n",
       "\n",
       "    .dataframe thead th {\n",
       "        text-align: right;\n",
       "    }\n",
       "</style>\n",
       "<table border=\"1\" class=\"dataframe\">\n",
       "  <thead>\n",
       "    <tr style=\"text-align: right;\">\n",
       "      <th></th>\n",
       "      <th>date</th>\n",
       "    </tr>\n",
       "  </thead>\n",
       "  <tbody>\n",
       "    <tr>\n",
       "      <th>0</th>\n",
       "      <td>2021-01-04</td>\n",
       "    </tr>\n",
       "    <tr>\n",
       "      <th>1</th>\n",
       "      <td>2021-01-05</td>\n",
       "    </tr>\n",
       "    <tr>\n",
       "      <th>2</th>\n",
       "      <td>2021-01-06</td>\n",
       "    </tr>\n",
       "    <tr>\n",
       "      <th>3</th>\n",
       "      <td>2021-01-07</td>\n",
       "    </tr>\n",
       "    <tr>\n",
       "      <th>4</th>\n",
       "      <td>2021-01-08</td>\n",
       "    </tr>\n",
       "    <tr>\n",
       "      <th>...</th>\n",
       "      <td>...</td>\n",
       "    </tr>\n",
       "    <tr>\n",
       "      <th>717</th>\n",
       "      <td>2023-11-08</td>\n",
       "    </tr>\n",
       "    <tr>\n",
       "      <th>718</th>\n",
       "      <td>2023-11-09</td>\n",
       "    </tr>\n",
       "    <tr>\n",
       "      <th>719</th>\n",
       "      <td>2023-11-10</td>\n",
       "    </tr>\n",
       "    <tr>\n",
       "      <th>720</th>\n",
       "      <td>2023-11-13</td>\n",
       "    </tr>\n",
       "    <tr>\n",
       "      <th>721</th>\n",
       "      <td>2023-11-14</td>\n",
       "    </tr>\n",
       "  </tbody>\n",
       "</table>\n",
       "<p>722 rows × 1 columns</p>\n",
       "</div>"
      ],
      "text/plain": [
       "           date\n",
       "0    2021-01-04\n",
       "1    2021-01-05\n",
       "2    2021-01-06\n",
       "3    2021-01-07\n",
       "4    2021-01-08\n",
       "..          ...\n",
       "717  2023-11-08\n",
       "718  2023-11-09\n",
       "719  2023-11-10\n",
       "720  2023-11-13\n",
       "721  2023-11-14\n",
       "\n",
       "[722 rows x 1 columns]"
      ]
     },
     "execution_count": 73,
     "metadata": {},
     "output_type": "execute_result"
    }
   ],
   "source": [
    "date"
   ]
  },
  {
   "cell_type": "code",
   "execution_count": 7,
   "metadata": {
    "tags": []
   },
   "outputs": [
    {
     "data": {
      "text/html": [
       "<div>\n",
       "<style scoped>\n",
       "    .dataframe tbody tr th:only-of-type {\n",
       "        vertical-align: middle;\n",
       "    }\n",
       "\n",
       "    .dataframe tbody tr th {\n",
       "        vertical-align: top;\n",
       "    }\n",
       "\n",
       "    .dataframe thead th {\n",
       "        text-align: right;\n",
       "    }\n",
       "</style>\n",
       "<table border=\"1\" class=\"dataframe\">\n",
       "  <thead>\n",
       "    <tr style=\"text-align: right;\">\n",
       "      <th></th>\n",
       "      <th>date</th>\n",
       "      <th>score</th>\n",
       "    </tr>\n",
       "  </thead>\n",
       "  <tbody>\n",
       "    <tr>\n",
       "      <th>0</th>\n",
       "      <td>2021-01-01</td>\n",
       "      <td>2.000000</td>\n",
       "    </tr>\n",
       "    <tr>\n",
       "      <th>1</th>\n",
       "      <td>2021-01-03</td>\n",
       "      <td>2.000000</td>\n",
       "    </tr>\n",
       "    <tr>\n",
       "      <th>2</th>\n",
       "      <td>2021-01-04</td>\n",
       "      <td>2.000000</td>\n",
       "    </tr>\n",
       "    <tr>\n",
       "      <th>3</th>\n",
       "      <td>2021-01-05</td>\n",
       "      <td>1.250000</td>\n",
       "    </tr>\n",
       "    <tr>\n",
       "      <th>4</th>\n",
       "      <td>2021-01-06</td>\n",
       "      <td>0.000000</td>\n",
       "    </tr>\n",
       "    <tr>\n",
       "      <th>...</th>\n",
       "      <td>...</td>\n",
       "      <td>...</td>\n",
       "    </tr>\n",
       "    <tr>\n",
       "      <th>911</th>\n",
       "      <td>2023-11-10</td>\n",
       "      <td>1.615385</td>\n",
       "    </tr>\n",
       "    <tr>\n",
       "      <th>912</th>\n",
       "      <td>2023-11-11</td>\n",
       "      <td>1.200000</td>\n",
       "    </tr>\n",
       "    <tr>\n",
       "      <th>913</th>\n",
       "      <td>2023-11-12</td>\n",
       "      <td>1.833333</td>\n",
       "    </tr>\n",
       "    <tr>\n",
       "      <th>914</th>\n",
       "      <td>2023-11-13</td>\n",
       "      <td>1.000000</td>\n",
       "    </tr>\n",
       "    <tr>\n",
       "      <th>915</th>\n",
       "      <td>2023-11-14</td>\n",
       "      <td>1.322581</td>\n",
       "    </tr>\n",
       "  </tbody>\n",
       "</table>\n",
       "<p>916 rows × 2 columns</p>\n",
       "</div>"
      ],
      "text/plain": [
       "           date     score\n",
       "0    2021-01-01  2.000000\n",
       "1    2021-01-03  2.000000\n",
       "2    2021-01-04  2.000000\n",
       "3    2021-01-05  1.250000\n",
       "4    2021-01-06  0.000000\n",
       "..          ...       ...\n",
       "911  2023-11-10  1.615385\n",
       "912  2023-11-11  1.200000\n",
       "913  2023-11-12  1.833333\n",
       "914  2023-11-13  1.000000\n",
       "915  2023-11-14  1.322581\n",
       "\n",
       "[916 rows x 2 columns]"
      ]
     },
     "execution_count": 7,
     "metadata": {},
     "output_type": "execute_result"
    }
   ],
   "source": [
    "price_pred"
   ]
  },
  {
   "cell_type": "code",
   "execution_count": 77,
   "metadata": {
    "tags": []
   },
   "outputs": [],
   "source": [
    "date1 = date['date'].to_numpy()\n",
    "date2 = price_pred[\"date\"].to_numpy()\n",
    "score = price_pred[\"score\"].to_numpy()"
   ]
  },
  {
   "cell_type": "code",
   "execution_count": 92,
   "metadata": {
    "tags": []
   },
   "outputs": [],
   "source": [
    "score_pred = []\n",
    "memory = 0\n",
    "indic = 0\n",
    "\n",
    "for i in range(len(score)):\n",
    "    \n",
    "    if i < len(date1) and date1[i] not in date2:\n",
    "        score_pred.append(None)\n",
    "        \n",
    "    if date2[i] not in date1:\n",
    "        memory += score[i]\n",
    "        indic += 1\n",
    "        continue \n",
    "        \n",
    "    if memory != 0:\n",
    "        score_append = (memory + score[i]) / (indic+1)\n",
    "        score_pred.append(score_append)\n",
    "        memory = 0\n",
    "        indic = 0\n",
    "        continue\n",
    "    \n",
    "    score_pred.append(score[i])\n",
    "        "
   ]
  },
  {
   "cell_type": "code",
   "execution_count": 96,
   "metadata": {
    "tags": []
   },
   "outputs": [],
   "source": [
    "for i in range(len(score_pred)):\n",
    "    if score_pred[i] is None:\n",
    "        for j in range(1, i):\n",
    "            if score_pred[i-j] is not None and score_pred[i+j] is not None:\n",
    "                avg = (score_pred[i-j] + score_pred[i+j]) / 2\n",
    "                score_pred[i] = avg\n",
    "                break"
   ]
  },
  {
   "cell_type": "code",
   "execution_count": 99,
   "metadata": {
    "tags": []
   },
   "outputs": [],
   "source": [
    "final_score = pd.DataFrame(score_pred)\n",
    "final_score.rename(columns = {0: \"Score\"}, inplace = True)\n",
    "final_score.to_csv(\"final_score.csv\")"
   ]
  },
  {
   "cell_type": "code",
   "execution_count": null,
   "metadata": {},
   "outputs": [],
   "source": []
  }
 ],
 "metadata": {
  "accelerator": "GPU",
  "colab": {
   "gpuType": "T4",
   "provenance": []
  },
  "kernelspec": {
   "display_name": "Python [conda env:PIC16B] *",
   "language": "python",
   "name": "conda-env-PIC16B-py"
  },
  "language_info": {
   "codemirror_mode": {
    "name": "ipython",
    "version": 3
   },
   "file_extension": ".py",
   "mimetype": "text/x-python",
   "name": "python",
   "nbconvert_exporter": "python",
   "pygments_lexer": "ipython3",
   "version": "3.11.5"
  }
 },
 "nbformat": 4,
 "nbformat_minor": 4
}
