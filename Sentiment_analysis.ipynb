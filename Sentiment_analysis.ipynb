{
  "cells": [
    {
      "cell_type": "code",
      "execution_count": 1,
      "metadata": {
        "colab": {
          "base_uri": "https://localhost:8080/"
        },
        "id": "7ob2vzGY9cfE",
        "outputId": "0daeaede-dbbc-497d-d3c9-13e183707629"
      },
      "outputs": [
        {
          "output_type": "stream",
          "name": "stderr",
          "text": [
            "[nltk_data] Downloading package stopwords to /root/nltk_data...\n",
            "[nltk_data]   Unzipping corpora/stopwords.zip.\n"
          ]
        }
      ],
      "source": [
        "import numpy as np\n",
        "import pandas as pd\n",
        "import re\n",
        "import string\n",
        "import tensorflow as tf\n",
        "\n",
        "# for model\n",
        "import nltk\n",
        "nltk.download('stopwords')\n",
        "from textblob import Word\n",
        "from nltk.corpus import stopwords\n",
        "\n",
        "from sklearn.model_selection import train_test_split\n",
        "from sklearn.preprocessing import LabelEncoder\n",
        "from sklearn.metrics import classification_report,confusion_matrix,accuracy_score\n",
        "\n",
        "import tensorflow as tf\n",
        "from tensorflow import keras\n",
        "from tensorflow.keras import layers\n",
        "from tensorflow.keras import losses\n",
        "from tensorflow.keras.layers import TextVectorization\n",
        "from tensorflow.keras.layers import StringLookup"
      ]
    },
    {
      "cell_type": "code",
      "execution_count": 2,
      "metadata": {
        "colab": {
          "base_uri": "https://localhost:8080/"
        },
        "id": "BOt7ucj89hXD",
        "outputId": "14b8bb25-9dbd-4be3-a808-0ac2d77fe269"
      },
      "outputs": [
        {
          "output_type": "stream",
          "name": "stdout",
          "text": [
            "Mounted at /content/drive\n"
          ]
        }
      ],
      "source": [
        "from google.colab import drive\n",
        "drive.mount('/content/drive')"
      ]
    },
    {
      "cell_type": "code",
      "execution_count": null,
      "metadata": {
        "id": "TgBorE559oRD",
        "colab": {
          "base_uri": "https://localhost:8080/",
          "height": 204
        },
        "outputId": "77f2fd40-e9f3-42f1-d64c-8a529604a479"
      },
      "outputs": [
        {
          "output_type": "execute_result",
          "data": {
            "text/plain": [
              "                                            Sentence Sentiment\n",
              "0  The GeoSolutions technology will leverage Bene...  positive\n",
              "1  $ESI on lows, down $1.50 to $2.50 BK a real po...  negative\n",
              "2  For the last quarter of 2010 , Componenta 's n...  positive\n",
              "3  According to the Finnish-Russian Chamber of Co...   neutral\n",
              "4  The Swedish buyout firm has sold its remaining...   neutral"
            ],
            "text/html": [
              "\n",
              "  <div id=\"df-04171990-8c62-4e5d-a625-8ebb11fb3daa\" class=\"colab-df-container\">\n",
              "    <div>\n",
              "<style scoped>\n",
              "    .dataframe tbody tr th:only-of-type {\n",
              "        vertical-align: middle;\n",
              "    }\n",
              "\n",
              "    .dataframe tbody tr th {\n",
              "        vertical-align: top;\n",
              "    }\n",
              "\n",
              "    .dataframe thead th {\n",
              "        text-align: right;\n",
              "    }\n",
              "</style>\n",
              "<table border=\"1\" class=\"dataframe\">\n",
              "  <thead>\n",
              "    <tr style=\"text-align: right;\">\n",
              "      <th></th>\n",
              "      <th>Sentence</th>\n",
              "      <th>Sentiment</th>\n",
              "    </tr>\n",
              "  </thead>\n",
              "  <tbody>\n",
              "    <tr>\n",
              "      <th>0</th>\n",
              "      <td>The GeoSolutions technology will leverage Bene...</td>\n",
              "      <td>positive</td>\n",
              "    </tr>\n",
              "    <tr>\n",
              "      <th>1</th>\n",
              "      <td>$ESI on lows, down $1.50 to $2.50 BK a real po...</td>\n",
              "      <td>negative</td>\n",
              "    </tr>\n",
              "    <tr>\n",
              "      <th>2</th>\n",
              "      <td>For the last quarter of 2010 , Componenta 's n...</td>\n",
              "      <td>positive</td>\n",
              "    </tr>\n",
              "    <tr>\n",
              "      <th>3</th>\n",
              "      <td>According to the Finnish-Russian Chamber of Co...</td>\n",
              "      <td>neutral</td>\n",
              "    </tr>\n",
              "    <tr>\n",
              "      <th>4</th>\n",
              "      <td>The Swedish buyout firm has sold its remaining...</td>\n",
              "      <td>neutral</td>\n",
              "    </tr>\n",
              "  </tbody>\n",
              "</table>\n",
              "</div>\n",
              "    <div class=\"colab-df-buttons\">\n",
              "\n",
              "  <div class=\"colab-df-container\">\n",
              "    <button class=\"colab-df-convert\" onclick=\"convertToInteractive('df-04171990-8c62-4e5d-a625-8ebb11fb3daa')\"\n",
              "            title=\"Convert this dataframe to an interactive table.\"\n",
              "            style=\"display:none;\">\n",
              "\n",
              "  <svg xmlns=\"http://www.w3.org/2000/svg\" height=\"24px\" viewBox=\"0 -960 960 960\">\n",
              "    <path d=\"M120-120v-720h720v720H120Zm60-500h600v-160H180v160Zm220 220h160v-160H400v160Zm0 220h160v-160H400v160ZM180-400h160v-160H180v160Zm440 0h160v-160H620v160ZM180-180h160v-160H180v160Zm440 0h160v-160H620v160Z\"/>\n",
              "  </svg>\n",
              "    </button>\n",
              "\n",
              "  <style>\n",
              "    .colab-df-container {\n",
              "      display:flex;\n",
              "      gap: 12px;\n",
              "    }\n",
              "\n",
              "    .colab-df-convert {\n",
              "      background-color: #E8F0FE;\n",
              "      border: none;\n",
              "      border-radius: 50%;\n",
              "      cursor: pointer;\n",
              "      display: none;\n",
              "      fill: #1967D2;\n",
              "      height: 32px;\n",
              "      padding: 0 0 0 0;\n",
              "      width: 32px;\n",
              "    }\n",
              "\n",
              "    .colab-df-convert:hover {\n",
              "      background-color: #E2EBFA;\n",
              "      box-shadow: 0px 1px 2px rgba(60, 64, 67, 0.3), 0px 1px 3px 1px rgba(60, 64, 67, 0.15);\n",
              "      fill: #174EA6;\n",
              "    }\n",
              "\n",
              "    .colab-df-buttons div {\n",
              "      margin-bottom: 4px;\n",
              "    }\n",
              "\n",
              "    [theme=dark] .colab-df-convert {\n",
              "      background-color: #3B4455;\n",
              "      fill: #D2E3FC;\n",
              "    }\n",
              "\n",
              "    [theme=dark] .colab-df-convert:hover {\n",
              "      background-color: #434B5C;\n",
              "      box-shadow: 0px 1px 3px 1px rgba(0, 0, 0, 0.15);\n",
              "      filter: drop-shadow(0px 1px 2px rgba(0, 0, 0, 0.3));\n",
              "      fill: #FFFFFF;\n",
              "    }\n",
              "  </style>\n",
              "\n",
              "    <script>\n",
              "      const buttonEl =\n",
              "        document.querySelector('#df-04171990-8c62-4e5d-a625-8ebb11fb3daa button.colab-df-convert');\n",
              "      buttonEl.style.display =\n",
              "        google.colab.kernel.accessAllowed ? 'block' : 'none';\n",
              "\n",
              "      async function convertToInteractive(key) {\n",
              "        const element = document.querySelector('#df-04171990-8c62-4e5d-a625-8ebb11fb3daa');\n",
              "        const dataTable =\n",
              "          await google.colab.kernel.invokeFunction('convertToInteractive',\n",
              "                                                    [key], {});\n",
              "        if (!dataTable) return;\n",
              "\n",
              "        const docLinkHtml = 'Like what you see? Visit the ' +\n",
              "          '<a target=\"_blank\" href=https://colab.research.google.com/notebooks/data_table.ipynb>data table notebook</a>'\n",
              "          + ' to learn more about interactive tables.';\n",
              "        element.innerHTML = '';\n",
              "        dataTable['output_type'] = 'display_data';\n",
              "        await google.colab.output.renderOutput(dataTable, element);\n",
              "        const docLink = document.createElement('div');\n",
              "        docLink.innerHTML = docLinkHtml;\n",
              "        element.appendChild(docLink);\n",
              "      }\n",
              "    </script>\n",
              "  </div>\n",
              "\n",
              "\n",
              "<div id=\"df-b3a3d91e-6859-463b-985b-8199f32c00c8\">\n",
              "  <button class=\"colab-df-quickchart\" onclick=\"quickchart('df-b3a3d91e-6859-463b-985b-8199f32c00c8')\"\n",
              "            title=\"Suggest charts\"\n",
              "            style=\"display:none;\">\n",
              "\n",
              "<svg xmlns=\"http://www.w3.org/2000/svg\" height=\"24px\"viewBox=\"0 0 24 24\"\n",
              "     width=\"24px\">\n",
              "    <g>\n",
              "        <path d=\"M19 3H5c-1.1 0-2 .9-2 2v14c0 1.1.9 2 2 2h14c1.1 0 2-.9 2-2V5c0-1.1-.9-2-2-2zM9 17H7v-7h2v7zm4 0h-2V7h2v10zm4 0h-2v-4h2v4z\"/>\n",
              "    </g>\n",
              "</svg>\n",
              "  </button>\n",
              "\n",
              "<style>\n",
              "  .colab-df-quickchart {\n",
              "      --bg-color: #E8F0FE;\n",
              "      --fill-color: #1967D2;\n",
              "      --hover-bg-color: #E2EBFA;\n",
              "      --hover-fill-color: #174EA6;\n",
              "      --disabled-fill-color: #AAA;\n",
              "      --disabled-bg-color: #DDD;\n",
              "  }\n",
              "\n",
              "  [theme=dark] .colab-df-quickchart {\n",
              "      --bg-color: #3B4455;\n",
              "      --fill-color: #D2E3FC;\n",
              "      --hover-bg-color: #434B5C;\n",
              "      --hover-fill-color: #FFFFFF;\n",
              "      --disabled-bg-color: #3B4455;\n",
              "      --disabled-fill-color: #666;\n",
              "  }\n",
              "\n",
              "  .colab-df-quickchart {\n",
              "    background-color: var(--bg-color);\n",
              "    border: none;\n",
              "    border-radius: 50%;\n",
              "    cursor: pointer;\n",
              "    display: none;\n",
              "    fill: var(--fill-color);\n",
              "    height: 32px;\n",
              "    padding: 0;\n",
              "    width: 32px;\n",
              "  }\n",
              "\n",
              "  .colab-df-quickchart:hover {\n",
              "    background-color: var(--hover-bg-color);\n",
              "    box-shadow: 0 1px 2px rgba(60, 64, 67, 0.3), 0 1px 3px 1px rgba(60, 64, 67, 0.15);\n",
              "    fill: var(--button-hover-fill-color);\n",
              "  }\n",
              "\n",
              "  .colab-df-quickchart-complete:disabled,\n",
              "  .colab-df-quickchart-complete:disabled:hover {\n",
              "    background-color: var(--disabled-bg-color);\n",
              "    fill: var(--disabled-fill-color);\n",
              "    box-shadow: none;\n",
              "  }\n",
              "\n",
              "  .colab-df-spinner {\n",
              "    border: 2px solid var(--fill-color);\n",
              "    border-color: transparent;\n",
              "    border-bottom-color: var(--fill-color);\n",
              "    animation:\n",
              "      spin 1s steps(1) infinite;\n",
              "  }\n",
              "\n",
              "  @keyframes spin {\n",
              "    0% {\n",
              "      border-color: transparent;\n",
              "      border-bottom-color: var(--fill-color);\n",
              "      border-left-color: var(--fill-color);\n",
              "    }\n",
              "    20% {\n",
              "      border-color: transparent;\n",
              "      border-left-color: var(--fill-color);\n",
              "      border-top-color: var(--fill-color);\n",
              "    }\n",
              "    30% {\n",
              "      border-color: transparent;\n",
              "      border-left-color: var(--fill-color);\n",
              "      border-top-color: var(--fill-color);\n",
              "      border-right-color: var(--fill-color);\n",
              "    }\n",
              "    40% {\n",
              "      border-color: transparent;\n",
              "      border-right-color: var(--fill-color);\n",
              "      border-top-color: var(--fill-color);\n",
              "    }\n",
              "    60% {\n",
              "      border-color: transparent;\n",
              "      border-right-color: var(--fill-color);\n",
              "    }\n",
              "    80% {\n",
              "      border-color: transparent;\n",
              "      border-right-color: var(--fill-color);\n",
              "      border-bottom-color: var(--fill-color);\n",
              "    }\n",
              "    90% {\n",
              "      border-color: transparent;\n",
              "      border-bottom-color: var(--fill-color);\n",
              "    }\n",
              "  }\n",
              "</style>\n",
              "\n",
              "  <script>\n",
              "    async function quickchart(key) {\n",
              "      const quickchartButtonEl =\n",
              "        document.querySelector('#' + key + ' button');\n",
              "      quickchartButtonEl.disabled = true;  // To prevent multiple clicks.\n",
              "      quickchartButtonEl.classList.add('colab-df-spinner');\n",
              "      try {\n",
              "        const charts = await google.colab.kernel.invokeFunction(\n",
              "            'suggestCharts', [key], {});\n",
              "      } catch (error) {\n",
              "        console.error('Error during call to suggestCharts:', error);\n",
              "      }\n",
              "      quickchartButtonEl.classList.remove('colab-df-spinner');\n",
              "      quickchartButtonEl.classList.add('colab-df-quickchart-complete');\n",
              "    }\n",
              "    (() => {\n",
              "      let quickchartButtonEl =\n",
              "        document.querySelector('#df-b3a3d91e-6859-463b-985b-8199f32c00c8 button');\n",
              "      quickchartButtonEl.style.display =\n",
              "        google.colab.kernel.accessAllowed ? 'block' : 'none';\n",
              "    })();\n",
              "  </script>\n",
              "</div>\n",
              "    </div>\n",
              "  </div>\n"
            ]
          },
          "metadata": {},
          "execution_count": 64
        }
      ],
      "source": [
        "fin_data = pd.read_csv(\"/content/drive/MyDrive/fin_data.csv\")\n",
        "fin_data.head()"
      ]
    },
    {
      "cell_type": "code",
      "source": [
        "le = LabelEncoder()\n",
        "labels = le.fit_transform(fin_data[\"Sentiment\"])\n",
        "labels[:5]"
      ],
      "metadata": {
        "colab": {
          "base_uri": "https://localhost:8080/"
        },
        "id": "fwg8dCBaXFWf",
        "outputId": "3ad200c7-e54f-4445-eddd-6dd8a01a9af7"
      },
      "execution_count": null,
      "outputs": [
        {
          "output_type": "execute_result",
          "data": {
            "text/plain": [
              "array([2, 0, 2, 1, 1])"
            ]
          },
          "metadata": {},
          "execution_count": 65
        }
      ]
    },
    {
      "cell_type": "code",
      "execution_count": null,
      "metadata": {
        "id": "AWObrP0yDRW_"
      },
      "outputs": [],
      "source": [
        "data = tf.data.Dataset.from_tensor_slices((fin_data[\"Sentence\"], labels))\n",
        "data = data.shuffle(buffer_size = len(data))\n",
        "\n",
        "train_size = int(0.7*len(data))\n",
        "val_size   = int(0.1*len(data))\n",
        "\n",
        "train = data.take(train_size)\n",
        "val   = data.skip(train_size).take(val_size)\n",
        "test  = data.skip(train_size + val_size)\n",
        "\n",
        "def standardization(input_data):\n",
        "    lowercase = tf.strings.lower(input_data)\n",
        "    no_punctuation = tf.strings.regex_replace(lowercase,\n",
        "                                  '[%s]' % re.escape(string.punctuation),'')\n",
        "    return no_punctuation\n",
        "\n",
        "# only the top distinct words will be tracked\n",
        "max_tokens = 2000\n",
        "\n",
        "# each headline will be a vector of length 25\n",
        "sequence_length = 25\n",
        "\n",
        "vectorize_layer = TextVectorization(\n",
        "    standardize=standardization,\n",
        "    max_tokens=max_tokens, # only consider this many words\n",
        "    output_mode='int',\n",
        "    output_sequence_length=sequence_length)\n",
        "\n",
        "headlines = train.map(lambda x, y: x)\n",
        "vectorize_layer.adapt(headlines)\n",
        "\n",
        "def vectorize_headline(text, label):\n",
        "    text = tf.expand_dims(text, -1)\n",
        "    return vectorize_layer(text), [label]\n",
        "\n",
        "train_vec = train.map(vectorize_headline)\n",
        "val_vec   = val.map(vectorize_headline)\n",
        "test_vec  = test.map(vectorize_headline)"
      ]
    },
    {
      "cell_type": "code",
      "execution_count": null,
      "metadata": {
        "colab": {
          "base_uri": "https://localhost:8080/"
        },
        "id": "h71lAfM9EZRo",
        "outputId": "cac85621-268b-4c1f-c17b-6dc63fb43c7f"
      },
      "outputs": [
        {
          "output_type": "stream",
          "name": "stdout",
          "text": [
            "Epoch 1/20\n",
            "4089/4089 [==============================] - 12s 3ms/step - loss: 0.9709 - accuracy: 0.5424 - val_loss: 0.9205 - val_accuracy: 0.5445\n",
            "Epoch 2/20\n",
            "4089/4089 [==============================] - 11s 3ms/step - loss: 0.9088 - accuracy: 0.5588 - val_loss: 0.8897 - val_accuracy: 0.5856\n",
            "Epoch 3/20\n",
            "4089/4089 [==============================] - 10s 3ms/step - loss: 0.8645 - accuracy: 0.6116 - val_loss: 0.8548 - val_accuracy: 0.6267\n",
            "Epoch 4/20\n",
            "4089/4089 [==============================] - 11s 3ms/step - loss: 0.8303 - accuracy: 0.6454 - val_loss: 0.8058 - val_accuracy: 0.6421\n",
            "Epoch 5/20\n",
            "4089/4089 [==============================] - 10s 2ms/step - loss: 0.7904 - accuracy: 0.6623 - val_loss: 0.7181 - val_accuracy: 0.7055\n",
            "Epoch 6/20\n",
            "4089/4089 [==============================] - 11s 3ms/step - loss: 0.7502 - accuracy: 0.6838 - val_loss: 0.6616 - val_accuracy: 0.7432\n",
            "Epoch 7/20\n",
            "4089/4089 [==============================] - 9s 2ms/step - loss: 0.7110 - accuracy: 0.7038 - val_loss: 0.6453 - val_accuracy: 0.7346\n",
            "Epoch 8/20\n",
            "4089/4089 [==============================] - 11s 3ms/step - loss: 0.6899 - accuracy: 0.7168 - val_loss: 0.6263 - val_accuracy: 0.7329\n",
            "Epoch 9/20\n",
            "4089/4089 [==============================] - 14s 3ms/step - loss: 0.6694 - accuracy: 0.7249 - val_loss: 0.5999 - val_accuracy: 0.7688\n",
            "Epoch 10/20\n",
            "4089/4089 [==============================] - 9s 2ms/step - loss: 0.6358 - accuracy: 0.7281 - val_loss: 0.5774 - val_accuracy: 0.7740\n",
            "Epoch 11/20\n",
            "4089/4089 [==============================] - 12s 3ms/step - loss: 0.6242 - accuracy: 0.7413 - val_loss: 0.5890 - val_accuracy: 0.7586\n",
            "Epoch 12/20\n",
            "4089/4089 [==============================] - 10s 2ms/step - loss: 0.6137 - accuracy: 0.7430 - val_loss: 0.5358 - val_accuracy: 0.7860\n",
            "Epoch 13/20\n",
            "4089/4089 [==============================] - 11s 3ms/step - loss: 0.5994 - accuracy: 0.7528 - val_loss: 0.5804 - val_accuracy: 0.7363\n",
            "Epoch 14/20\n",
            "4089/4089 [==============================] - 9s 2ms/step - loss: 0.5937 - accuracy: 0.7564 - val_loss: 0.5310 - val_accuracy: 0.7860\n",
            "Epoch 15/20\n",
            "4089/4089 [==============================] - 11s 3ms/step - loss: 0.5718 - accuracy: 0.7613 - val_loss: 0.4926 - val_accuracy: 0.8202\n",
            "Epoch 16/20\n",
            "4089/4089 [==============================] - 10s 2ms/step - loss: 0.5775 - accuracy: 0.7515 - val_loss: 0.4656 - val_accuracy: 0.8151\n",
            "Epoch 17/20\n",
            "4089/4089 [==============================] - 12s 3ms/step - loss: 0.5642 - accuracy: 0.7650 - val_loss: 0.5227 - val_accuracy: 0.7740\n",
            "Epoch 18/20\n",
            "4089/4089 [==============================] - 11s 3ms/step - loss: 0.5683 - accuracy: 0.7603 - val_loss: 0.5074 - val_accuracy: 0.7705\n",
            "Epoch 19/20\n",
            "4089/4089 [==============================] - 9s 2ms/step - loss: 0.5589 - accuracy: 0.7584 - val_loss: 0.4740 - val_accuracy: 0.8014\n",
            "Epoch 20/20\n",
            "4089/4089 [==============================] - 11s 3ms/step - loss: 0.5464 - accuracy: 0.7679 - val_loss: 0.4248 - val_accuracy: 0.8151\n"
          ]
        }
      ],
      "source": [
        "model = tf.keras.Sequential([\n",
        "  layers.Embedding(2000, output_dim = 3, name=\"embedding\"),\n",
        "  layers.Dropout(0.2),\n",
        "  layers.GlobalAveragePooling1D(),\n",
        "  layers.Dropout(0.2),\n",
        "  layers.Dense(3)]\n",
        ")\n",
        "\n",
        "model.compile(loss=losses.SparseCategoricalCrossentropy(from_logits=True),\n",
        "              optimizer='adam',\n",
        "              metrics=['accuracy'])\n",
        "\n",
        "history = model.fit(train_vec, epochs = 20, validation_data = val_vec)"
      ]
    },
    {
      "cell_type": "code",
      "execution_count": null,
      "metadata": {
        "id": "CRMGYIj7Evtx",
        "colab": {
          "base_uri": "https://localhost:8080/",
          "height": 466
        },
        "outputId": "e5d8db80-fdaf-4df1-956e-09dd52bf8c50"
      },
      "outputs": [
        {
          "output_type": "execute_result",
          "data": {
            "text/plain": [
              "<matplotlib.legend.Legend at 0x7be62d3ba740>"
            ]
          },
          "metadata": {},
          "execution_count": 62
        },
        {
          "output_type": "display_data",
          "data": {
            "text/plain": [
              "<Figure size 640x480 with 1 Axes>"
            ],
            "image/png": "[encoded data removed]"
          },
          "metadata": {}
        }
      ],
      "source": [
        "from matplotlib import pyplot as plt\n",
        "plt.plot(history.history[\"accuracy\"], label = \"training\")\n",
        "plt.plot(history.history[\"val_accuracy\"], label = \"validation\")\n",
        "plt.gca().set(xlabel = \"epoch\", ylabel = \"accuracy\")\n",
        "plt.legend()"
      ]
    },
    {
      "cell_type": "code",
      "source": [
        "model.evaluate(test_vec)"
      ],
      "metadata": {
        "colab": {
          "base_uri": "https://localhost:8080/"
        },
        "id": "m6_OAoi1G711",
        "outputId": "f2ee897b-dac0-4fed-e258-6054db59951d"
      },
      "execution_count": null,
      "outputs": [
        {
          "output_type": "stream",
          "name": "stdout",
          "text": [
            "1169/1169 [==============================] - 6s 5ms/step - loss: 0.4377 - accuracy: 0.8204\n"
          ]
        },
        {
          "output_type": "execute_result",
          "data": {
            "text/plain": [
              "[0.4376719295978546, 0.8203592896461487]"
            ]
          },
          "metadata": {},
          "execution_count": 63
        }
      ]
    },
    {
      "cell_type": "code",
      "source": [],
      "metadata": {
        "id": "EufdLTO5Haq5"
      },
      "execution_count": null,
      "outputs": []
    }
  ],
  "metadata": {
    "colab": {
      "provenance": []
    },
    "kernelspec": {
      "display_name": "Python 3",
      "name": "python3"
    },
    "language_info": {
      "name": "python"
    }
  },
  "nbformat": 4,
  "nbformat_minor": 0
}