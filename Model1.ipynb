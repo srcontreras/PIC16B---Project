{
 "cells": [
  {
   "cell_type": "code",
   "execution_count": 37,
   "id": "b9041b4b-4288-42d5-a6db-67127b6051e1",
   "metadata": {
    "tags": []
   },
   "outputs": [],
   "source": [
    "import numpy as np\n",
    "import pandas as pd\n",
    "import re\n",
    "import string\n",
    "import tensorflow as tf"
   ]
  },
  {
   "cell_type": "code",
   "execution_count": 39,
   "id": "556c7a2e-060a-4f0f-aee2-112092c23dd5",
   "metadata": {
    "tags": []
   },
   "outputs": [
    {
     "data": {
      "text/html": [
       "<div>\n",
       "<style scoped>\n",
       "    .dataframe tbody tr th:only-of-type {\n",
       "        vertical-align: middle;\n",
       "    }\n",
       "\n",
       "    .dataframe tbody tr th {\n",
       "        vertical-align: top;\n",
       "    }\n",
       "\n",
       "    .dataframe thead th {\n",
       "        text-align: right;\n",
       "    }\n",
       "</style>\n",
       "<table border=\"1\" class=\"dataframe\">\n",
       "  <thead>\n",
       "    <tr style=\"text-align: right;\">\n",
       "      <th></th>\n",
       "      <th>title</th>\n",
       "      <th>content</th>\n",
       "    </tr>\n",
       "  </thead>\n",
       "  <tbody>\n",
       "    <tr>\n",
       "      <th>0</th>\n",
       "      <td>Butler University Creates 2-Year Debt-Free Col...</td>\n",
       "      <td>Butler University of Indianapolis has created ...</td>\n",
       "    </tr>\n",
       "    <tr>\n",
       "      <th>1</th>\n",
       "      <td>Since Pandemic Closed His Business, New Jersey...</td>\n",
       "      <td>The owner of a New Jersey frame shop has been ...</td>\n",
       "    </tr>\n",
       "    <tr>\n",
       "      <th>2</th>\n",
       "      <td>PayPal Commits Over $500 Million to Support Mi...</td>\n",
       "      <td>PayPal yesterday announced a $530 million comm...</td>\n",
       "    </tr>\n",
       "    <tr>\n",
       "      <th>3</th>\n",
       "      <td>9-Year-Old and Friends Have Raised $100,000 fo...</td>\n",
       "      <td>Some unlikely heroes in Minneapolis have raise...</td>\n",
       "    </tr>\n",
       "    <tr>\n",
       "      <th>4</th>\n",
       "      <td>Hanes is Equipping America’s Homeless With 1 M...</td>\n",
       "      <td>Hanes basic apparel is not only encouraging Am...</td>\n",
       "    </tr>\n",
       "  </tbody>\n",
       "</table>\n",
       "</div>"
      ],
      "text/plain": [
       "                                               title  \\\n",
       "0  Butler University Creates 2-Year Debt-Free Col...   \n",
       "1  Since Pandemic Closed His Business, New Jersey...   \n",
       "2  PayPal Commits Over $500 Million to Support Mi...   \n",
       "3  9-Year-Old and Friends Have Raised $100,000 fo...   \n",
       "4  Hanes is Equipping America’s Homeless With 1 M...   \n",
       "\n",
       "                                             content  \n",
       "0  Butler University of Indianapolis has created ...  \n",
       "1  The owner of a New Jersey frame shop has been ...  \n",
       "2  PayPal yesterday announced a $530 million comm...  \n",
       "3  Some unlikely heroes in Minneapolis have raise...  \n",
       "4  Hanes basic apparel is not only encouraging Am...  "
      ]
     },
     "execution_count": 39,
     "metadata": {},
     "output_type": "execute_result"
    }
   ],
   "source": [
    "# read in good news data\n",
    "df = pd.read_csv(\"articles.csv\")\n",
    "df.head()"
   ]
  },
  {
   "cell_type": "code",
   "execution_count": 40,
   "id": "310e6fd8-819c-46f1-8962-bd5d2f329eec",
   "metadata": {},
   "outputs": [],
   "source": [
    "# clean up the content from the good news articles\n",
    "def clean_news(input_data):\n",
    "    \"\"\"\n",
    "    This function transforms the text to all lowercase letters and removes special punctuation\n",
    "    input: text data\n",
    "    output: standardized string\n",
    "    \"\"\"\n",
    "    lowercase = tf.strings.lower(input_data)\n",
    "    no_punctuation = tf.strings.regex_replace(lowercase,\n",
    "                                  '[%s]' % re.escape(string.punctuation),'')\n",
    "    return no_punctuation.numpy().decode('utf-8')"
   ]
  },
  {
   "cell_type": "code",
   "execution_count": 42,
   "id": "ae5cff00-7a32-44a6-94d5-2d4eae2931e4",
   "metadata": {
    "tags": []
   },
   "outputs": [
    {
     "data": {
      "text/html": [
       "<div>\n",
       "<style scoped>\n",
       "    .dataframe tbody tr th:only-of-type {\n",
       "        vertical-align: middle;\n",
       "    }\n",
       "\n",
       "    .dataframe tbody tr th {\n",
       "        vertical-align: top;\n",
       "    }\n",
       "\n",
       "    .dataframe thead th {\n",
       "        text-align: right;\n",
       "    }\n",
       "</style>\n",
       "<table border=\"1\" class=\"dataframe\">\n",
       "  <thead>\n",
       "    <tr style=\"text-align: right;\">\n",
       "      <th></th>\n",
       "      <th>title</th>\n",
       "      <th>content</th>\n",
       "    </tr>\n",
       "  </thead>\n",
       "  <tbody>\n",
       "    <tr>\n",
       "      <th>0</th>\n",
       "      <td>Butler University Creates 2-Year Debt-Free Col...</td>\n",
       "      <td>butler university of indianapolis has created ...</td>\n",
       "    </tr>\n",
       "    <tr>\n",
       "      <th>1</th>\n",
       "      <td>Since Pandemic Closed His Business, New Jersey...</td>\n",
       "      <td>the owner of a new jersey frame shop has been ...</td>\n",
       "    </tr>\n",
       "    <tr>\n",
       "      <th>2</th>\n",
       "      <td>PayPal Commits Over $500 Million to Support Mi...</td>\n",
       "      <td>paypal yesterday announced a 530 million commi...</td>\n",
       "    </tr>\n",
       "    <tr>\n",
       "      <th>3</th>\n",
       "      <td>9-Year-Old and Friends Have Raised $100,000 fo...</td>\n",
       "      <td>some unlikely heroes in minneapolis have raise...</td>\n",
       "    </tr>\n",
       "    <tr>\n",
       "      <th>4</th>\n",
       "      <td>Hanes is Equipping America’s Homeless With 1 M...</td>\n",
       "      <td>hanes basic apparel is not only encouraging am...</td>\n",
       "    </tr>\n",
       "  </tbody>\n",
       "</table>\n",
       "</div>"
      ],
      "text/plain": [
       "                                               title  \\\n",
       "0  Butler University Creates 2-Year Debt-Free Col...   \n",
       "1  Since Pandemic Closed His Business, New Jersey...   \n",
       "2  PayPal Commits Over $500 Million to Support Mi...   \n",
       "3  9-Year-Old and Friends Have Raised $100,000 fo...   \n",
       "4  Hanes is Equipping America’s Homeless With 1 M...   \n",
       "\n",
       "                                             content  \n",
       "0  butler university of indianapolis has created ...  \n",
       "1  the owner of a new jersey frame shop has been ...  \n",
       "2  paypal yesterday announced a 530 million commi...  \n",
       "3  some unlikely heroes in minneapolis have raise...  \n",
       "4  hanes basic apparel is not only encouraging am...  "
      ]
     },
     "execution_count": 42,
     "metadata": {},
     "output_type": "execute_result"
    }
   ],
   "source": [
    "# standardize the content \n",
    "df['content'] = df['content'].apply(clean_news)\n",
    "df.head()"
   ]
  },
  {
   "cell_type": "code",
   "execution_count": 44,
   "id": "484efca2-bb4c-48b1-acb4-cbe526672101",
   "metadata": {
    "tags": []
   },
   "outputs": [
    {
     "data": {
      "text/plain": [
       "(2487, 2)"
      ]
     },
     "execution_count": 44,
     "metadata": {},
     "output_type": "execute_result"
    }
   ],
   "source": [
    "df.shape"
   ]
  },
  {
   "cell_type": "code",
   "execution_count": null,
   "id": "1921edaa-f5da-447a-9bd3-2036b6b5418b",
   "metadata": {},
   "outputs": [],
   "source": []
  }
 ],
 "metadata": {
  "kernelspec": {
   "display_name": "Python [conda env:PIC16B-2] *",
   "language": "python",
   "name": "conda-env-PIC16B-2-py"
  },
  "language_info": {
   "codemirror_mode": {
    "name": "ipython",
    "version": 3
   },
   "file_extension": ".py",
   "mimetype": "text/x-python",
   "name": "python",
   "nbconvert_exporter": "python",
   "pygments_lexer": "ipython3",
   "version": "3.11.6"
  }
 },
 "nbformat": 4,
 "nbformat_minor": 5
}
